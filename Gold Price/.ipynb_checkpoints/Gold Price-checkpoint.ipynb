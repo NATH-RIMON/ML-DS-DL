{
 "cells": [
  {
   "cell_type": "code",
   "execution_count": 1,
   "id": "22769d71",
   "metadata": {},
   "outputs": [],
   "source": [
    "import numpy as np\n",
    "import pandas as pd\n",
    "import matplotlib.pyplot as plt\n",
    "import seaborn as sns\n",
    "from sklearn.model_selection import train_test_split\n",
    "from sklearn.ensemble import RandomForestRegressor\n",
    "from sklearn import metrics"
   ]
  },
  {
   "cell_type": "code",
   "execution_count": 2,
   "id": "8687fde6",
   "metadata": {},
   "outputs": [],
   "source": [
    "gold_dataset=pd.read_csv('gld_price_data.csv')"
   ]
  },
  {
   "cell_type": "code",
   "execution_count": 3,
   "id": "1e5ad421",
   "metadata": {},
   "outputs": [
    {
     "data": {
      "text/html": [
       "<div>\n",
       "<style scoped>\n",
       "    .dataframe tbody tr th:only-of-type {\n",
       "        vertical-align: middle;\n",
       "    }\n",
       "\n",
       "    .dataframe tbody tr th {\n",
       "        vertical-align: top;\n",
       "    }\n",
       "\n",
       "    .dataframe thead th {\n",
       "        text-align: right;\n",
       "    }\n",
       "</style>\n",
       "<table border=\"1\" class=\"dataframe\">\n",
       "  <thead>\n",
       "    <tr style=\"text-align: right;\">\n",
       "      <th></th>\n",
       "      <th>Date</th>\n",
       "      <th>SPX</th>\n",
       "      <th>GLD</th>\n",
       "      <th>USO</th>\n",
       "      <th>SLV</th>\n",
       "      <th>EUR/USD</th>\n",
       "    </tr>\n",
       "  </thead>\n",
       "  <tbody>\n",
       "    <tr>\n",
       "      <th>0</th>\n",
       "      <td>1/2/2008</td>\n",
       "      <td>1447.160034</td>\n",
       "      <td>84.860001</td>\n",
       "      <td>78.470001</td>\n",
       "      <td>15.180</td>\n",
       "      <td>1.471692</td>\n",
       "    </tr>\n",
       "    <tr>\n",
       "      <th>1</th>\n",
       "      <td>1/3/2008</td>\n",
       "      <td>1447.160034</td>\n",
       "      <td>85.570000</td>\n",
       "      <td>78.370003</td>\n",
       "      <td>15.285</td>\n",
       "      <td>1.474491</td>\n",
       "    </tr>\n",
       "    <tr>\n",
       "      <th>2</th>\n",
       "      <td>1/4/2008</td>\n",
       "      <td>1411.630005</td>\n",
       "      <td>85.129997</td>\n",
       "      <td>77.309998</td>\n",
       "      <td>15.167</td>\n",
       "      <td>1.475492</td>\n",
       "    </tr>\n",
       "    <tr>\n",
       "      <th>3</th>\n",
       "      <td>1/7/2008</td>\n",
       "      <td>1416.180054</td>\n",
       "      <td>84.769997</td>\n",
       "      <td>75.500000</td>\n",
       "      <td>15.053</td>\n",
       "      <td>1.468299</td>\n",
       "    </tr>\n",
       "    <tr>\n",
       "      <th>4</th>\n",
       "      <td>1/8/2008</td>\n",
       "      <td>1390.189941</td>\n",
       "      <td>86.779999</td>\n",
       "      <td>76.059998</td>\n",
       "      <td>15.590</td>\n",
       "      <td>1.557099</td>\n",
       "    </tr>\n",
       "  </tbody>\n",
       "</table>\n",
       "</div>"
      ],
      "text/plain": [
       "       Date          SPX        GLD        USO     SLV   EUR/USD\n",
       "0  1/2/2008  1447.160034  84.860001  78.470001  15.180  1.471692\n",
       "1  1/3/2008  1447.160034  85.570000  78.370003  15.285  1.474491\n",
       "2  1/4/2008  1411.630005  85.129997  77.309998  15.167  1.475492\n",
       "3  1/7/2008  1416.180054  84.769997  75.500000  15.053  1.468299\n",
       "4  1/8/2008  1390.189941  86.779999  76.059998  15.590  1.557099"
      ]
     },
     "execution_count": 3,
     "metadata": {},
     "output_type": "execute_result"
    }
   ],
   "source": [
    "gold_dataset.head()"
   ]
  },
  {
   "cell_type": "code",
   "execution_count": 4,
   "id": "b3e1a5ac",
   "metadata": {},
   "outputs": [
    {
     "name": "stdout",
     "output_type": "stream",
     "text": [
      "<class 'pandas.core.frame.DataFrame'>\n",
      "RangeIndex: 2290 entries, 0 to 2289\n",
      "Data columns (total 6 columns):\n",
      " #   Column   Non-Null Count  Dtype  \n",
      "---  ------   --------------  -----  \n",
      " 0   Date     2290 non-null   object \n",
      " 1   SPX      2290 non-null   float64\n",
      " 2   GLD      2290 non-null   float64\n",
      " 3   USO      2290 non-null   float64\n",
      " 4   SLV      2290 non-null   float64\n",
      " 5   EUR/USD  2290 non-null   float64\n",
      "dtypes: float64(5), object(1)\n",
      "memory usage: 107.5+ KB\n"
     ]
    }
   ],
   "source": [
    "gold_dataset.info()"
   ]
  },
  {
   "cell_type": "code",
   "execution_count": 5,
   "id": "413fada4",
   "metadata": {},
   "outputs": [
    {
     "data": {
      "text/html": [
       "<div>\n",
       "<style scoped>\n",
       "    .dataframe tbody tr th:only-of-type {\n",
       "        vertical-align: middle;\n",
       "    }\n",
       "\n",
       "    .dataframe tbody tr th {\n",
       "        vertical-align: top;\n",
       "    }\n",
       "\n",
       "    .dataframe thead th {\n",
       "        text-align: right;\n",
       "    }\n",
       "</style>\n",
       "<table border=\"1\" class=\"dataframe\">\n",
       "  <thead>\n",
       "    <tr style=\"text-align: right;\">\n",
       "      <th></th>\n",
       "      <th>Date</th>\n",
       "      <th>SPX</th>\n",
       "      <th>GLD</th>\n",
       "      <th>USO</th>\n",
       "      <th>SLV</th>\n",
       "      <th>EUR/USD</th>\n",
       "    </tr>\n",
       "  </thead>\n",
       "  <tbody>\n",
       "    <tr>\n",
       "      <th>2285</th>\n",
       "      <td>5/8/2018</td>\n",
       "      <td>2671.919922</td>\n",
       "      <td>124.589996</td>\n",
       "      <td>14.0600</td>\n",
       "      <td>15.5100</td>\n",
       "      <td>1.186789</td>\n",
       "    </tr>\n",
       "    <tr>\n",
       "      <th>2286</th>\n",
       "      <td>5/9/2018</td>\n",
       "      <td>2697.790039</td>\n",
       "      <td>124.330002</td>\n",
       "      <td>14.3700</td>\n",
       "      <td>15.5300</td>\n",
       "      <td>1.184722</td>\n",
       "    </tr>\n",
       "    <tr>\n",
       "      <th>2287</th>\n",
       "      <td>5/10/2018</td>\n",
       "      <td>2723.070068</td>\n",
       "      <td>125.180000</td>\n",
       "      <td>14.4100</td>\n",
       "      <td>15.7400</td>\n",
       "      <td>1.191753</td>\n",
       "    </tr>\n",
       "    <tr>\n",
       "      <th>2288</th>\n",
       "      <td>5/14/2018</td>\n",
       "      <td>2730.129883</td>\n",
       "      <td>124.489998</td>\n",
       "      <td>14.3800</td>\n",
       "      <td>15.5600</td>\n",
       "      <td>1.193118</td>\n",
       "    </tr>\n",
       "    <tr>\n",
       "      <th>2289</th>\n",
       "      <td>5/16/2018</td>\n",
       "      <td>2725.780029</td>\n",
       "      <td>122.543800</td>\n",
       "      <td>14.4058</td>\n",
       "      <td>15.4542</td>\n",
       "      <td>1.182033</td>\n",
       "    </tr>\n",
       "  </tbody>\n",
       "</table>\n",
       "</div>"
      ],
      "text/plain": [
       "           Date          SPX         GLD      USO      SLV   EUR/USD\n",
       "2285   5/8/2018  2671.919922  124.589996  14.0600  15.5100  1.186789\n",
       "2286   5/9/2018  2697.790039  124.330002  14.3700  15.5300  1.184722\n",
       "2287  5/10/2018  2723.070068  125.180000  14.4100  15.7400  1.191753\n",
       "2288  5/14/2018  2730.129883  124.489998  14.3800  15.5600  1.193118\n",
       "2289  5/16/2018  2725.780029  122.543800  14.4058  15.4542  1.182033"
      ]
     },
     "execution_count": 5,
     "metadata": {},
     "output_type": "execute_result"
    }
   ],
   "source": [
    "gold_dataset.tail()"
   ]
  },
  {
   "cell_type": "code",
   "execution_count": 6,
   "id": "d334aea8",
   "metadata": {},
   "outputs": [
    {
     "data": {
      "text/plain": [
       "(2290, 6)"
      ]
     },
     "execution_count": 6,
     "metadata": {},
     "output_type": "execute_result"
    }
   ],
   "source": [
    "gold_dataset.shape"
   ]
  },
  {
   "cell_type": "code",
   "execution_count": 7,
   "id": "f6775808",
   "metadata": {},
   "outputs": [
    {
     "data": {
      "text/plain": [
       "Date       0\n",
       "SPX        0\n",
       "GLD        0\n",
       "USO        0\n",
       "SLV        0\n",
       "EUR/USD    0\n",
       "dtype: int64"
      ]
     },
     "execution_count": 7,
     "metadata": {},
     "output_type": "execute_result"
    }
   ],
   "source": [
    "gold_dataset.isnull().sum()"
   ]
  },
  {
   "cell_type": "code",
   "execution_count": 8,
   "id": "0f5ab90b",
   "metadata": {},
   "outputs": [
    {
     "data": {
      "text/html": [
       "<div>\n",
       "<style scoped>\n",
       "    .dataframe tbody tr th:only-of-type {\n",
       "        vertical-align: middle;\n",
       "    }\n",
       "\n",
       "    .dataframe tbody tr th {\n",
       "        vertical-align: top;\n",
       "    }\n",
       "\n",
       "    .dataframe thead th {\n",
       "        text-align: right;\n",
       "    }\n",
       "</style>\n",
       "<table border=\"1\" class=\"dataframe\">\n",
       "  <thead>\n",
       "    <tr style=\"text-align: right;\">\n",
       "      <th></th>\n",
       "      <th>SPX</th>\n",
       "      <th>GLD</th>\n",
       "      <th>USO</th>\n",
       "      <th>SLV</th>\n",
       "      <th>EUR/USD</th>\n",
       "    </tr>\n",
       "  </thead>\n",
       "  <tbody>\n",
       "    <tr>\n",
       "      <th>count</th>\n",
       "      <td>2290.000000</td>\n",
       "      <td>2290.000000</td>\n",
       "      <td>2290.000000</td>\n",
       "      <td>2290.000000</td>\n",
       "      <td>2290.000000</td>\n",
       "    </tr>\n",
       "    <tr>\n",
       "      <th>mean</th>\n",
       "      <td>1654.315776</td>\n",
       "      <td>122.732875</td>\n",
       "      <td>31.842221</td>\n",
       "      <td>20.084997</td>\n",
       "      <td>1.283653</td>\n",
       "    </tr>\n",
       "    <tr>\n",
       "      <th>std</th>\n",
       "      <td>519.111540</td>\n",
       "      <td>23.283346</td>\n",
       "      <td>19.523517</td>\n",
       "      <td>7.092566</td>\n",
       "      <td>0.131547</td>\n",
       "    </tr>\n",
       "    <tr>\n",
       "      <th>min</th>\n",
       "      <td>676.530029</td>\n",
       "      <td>70.000000</td>\n",
       "      <td>7.960000</td>\n",
       "      <td>8.850000</td>\n",
       "      <td>1.039047</td>\n",
       "    </tr>\n",
       "    <tr>\n",
       "      <th>25%</th>\n",
       "      <td>1239.874969</td>\n",
       "      <td>109.725000</td>\n",
       "      <td>14.380000</td>\n",
       "      <td>15.570000</td>\n",
       "      <td>1.171313</td>\n",
       "    </tr>\n",
       "    <tr>\n",
       "      <th>50%</th>\n",
       "      <td>1551.434998</td>\n",
       "      <td>120.580002</td>\n",
       "      <td>33.869999</td>\n",
       "      <td>17.268500</td>\n",
       "      <td>1.303297</td>\n",
       "    </tr>\n",
       "    <tr>\n",
       "      <th>75%</th>\n",
       "      <td>2073.010070</td>\n",
       "      <td>132.840004</td>\n",
       "      <td>37.827501</td>\n",
       "      <td>22.882500</td>\n",
       "      <td>1.369971</td>\n",
       "    </tr>\n",
       "    <tr>\n",
       "      <th>max</th>\n",
       "      <td>2872.870117</td>\n",
       "      <td>184.589996</td>\n",
       "      <td>117.480003</td>\n",
       "      <td>47.259998</td>\n",
       "      <td>1.598798</td>\n",
       "    </tr>\n",
       "  </tbody>\n",
       "</table>\n",
       "</div>"
      ],
      "text/plain": [
       "               SPX          GLD          USO          SLV      EUR/USD\n",
       "count  2290.000000  2290.000000  2290.000000  2290.000000  2290.000000\n",
       "mean   1654.315776   122.732875    31.842221    20.084997     1.283653\n",
       "std     519.111540    23.283346    19.523517     7.092566     0.131547\n",
       "min     676.530029    70.000000     7.960000     8.850000     1.039047\n",
       "25%    1239.874969   109.725000    14.380000    15.570000     1.171313\n",
       "50%    1551.434998   120.580002    33.869999    17.268500     1.303297\n",
       "75%    2073.010070   132.840004    37.827501    22.882500     1.369971\n",
       "max    2872.870117   184.589996   117.480003    47.259998     1.598798"
      ]
     },
     "execution_count": 8,
     "metadata": {},
     "output_type": "execute_result"
    }
   ],
   "source": [
    "gold_dataset.describe()"
   ]
  },
  {
   "cell_type": "code",
   "execution_count": 9,
   "id": "28a6046b",
   "metadata": {},
   "outputs": [],
   "source": [
    "correlation=gold_dataset.corr()"
   ]
  },
  {
   "cell_type": "code",
   "execution_count": 12,
   "id": "7bb7bf73",
   "metadata": {},
   "outputs": [
    {
     "data": {
      "text/plain": [
       "<AxesSubplot:>"
      ]
     },
     "execution_count": 12,
     "metadata": {},
     "output_type": "execute_result"
    },
    {
     "data": {
      "image/png": "[encoded data removed]",
      "text/plain": [
       "<Figure size 576x576 with 2 Axes>"
      ]
     },
     "metadata": {
      "needs_background": "light"
     },
     "output_type": "display_data"
    }
   ],
   "source": [
    "plt.figure(figsize=(8,8))\n",
    "sns.heatmap(correlation,cbar=True,square=True,fmt='.2f',annot=True,annot_kws={'size':12},cmap='PRGn')"
   ]
  },
  {
   "cell_type": "code",
   "execution_count": 13,
   "id": "edb4626f",
   "metadata": {},
   "outputs": [
    {
     "name": "stdout",
     "output_type": "stream",
     "text": [
      "SPX        0.049345\n",
      "GLD        1.000000\n",
      "USO       -0.186360\n",
      "SLV        0.866632\n",
      "EUR/USD   -0.024375\n",
      "Name: GLD, dtype: float64\n"
     ]
    }
   ],
   "source": [
    "print(correlation['GLD'])"
   ]
  },
  {
   "cell_type": "code",
   "execution_count": 15,
   "id": "45714d52",
   "metadata": {},
   "outputs": [
    {
     "name": "stderr",
     "output_type": "stream",
     "text": [
      "C:\\ProgramData\\Anaconda3\\lib\\site-packages\\seaborn\\distributions.py:2619: FutureWarning: `distplot` is a deprecated function and will be removed in a future version. Please adapt your code to use either `displot` (a figure-level function with similar flexibility) or `histplot` (an axes-level function for histograms).\n",
      "  warnings.warn(msg, FutureWarning)\n"
     ]
    },
    {
     "data": {
      "text/plain": [
       "<AxesSubplot:xlabel='GLD', ylabel='Density'>"
      ]
     },
     "execution_count": 15,
     "metadata": {},
     "output_type": "execute_result"
    },
    {
     "data": {
      "image/png": "[encoded data removed]",
      "text/plain": [
       "<Figure size 432x288 with 1 Axes>"
      ]
     },
     "metadata": {
      "needs_background": "light"
     },
     "output_type": "display_data"
    }
   ],
   "source": [
    "sns.distplot(gold_dataset['GLD'],color='green')"
   ]
  },
  {
   "cell_type": "code",
   "execution_count": 18,
   "id": "d57c7762",
   "metadata": {},
   "outputs": [
    {
     "name": "stdout",
     "output_type": "stream",
     "text": [
      "              SPX        USO      SLV   EUR/USD\n",
      "0     1447.160034  78.470001  15.1800  1.471692\n",
      "1     1447.160034  78.370003  15.2850  1.474491\n",
      "2     1411.630005  77.309998  15.1670  1.475492\n",
      "3     1416.180054  75.500000  15.0530  1.468299\n",
      "4     1390.189941  76.059998  15.5900  1.557099\n",
      "...           ...        ...      ...       ...\n",
      "2285  2671.919922  14.060000  15.5100  1.186789\n",
      "2286  2697.790039  14.370000  15.5300  1.184722\n",
      "2287  2723.070068  14.410000  15.7400  1.191753\n",
      "2288  2730.129883  14.380000  15.5600  1.193118\n",
      "2289  2725.780029  14.405800  15.4542  1.182033\n",
      "\n",
      "[2290 rows x 4 columns]\n"
     ]
    }
   ],
   "source": [
    "x=gold_dataset.drop(['Date','GLD'],axis=1)\n",
    "y=gold_dataset['GLD']\n",
    "print(x)"
   ]
  },
  {
   "cell_type": "code",
   "execution_count": 19,
   "id": "aea12c7f",
   "metadata": {},
   "outputs": [
    {
     "name": "stdout",
     "output_type": "stream",
     "text": [
      "0        84.860001\n",
      "1        85.570000\n",
      "2        85.129997\n",
      "3        84.769997\n",
      "4        86.779999\n",
      "           ...    \n",
      "2285    124.589996\n",
      "2286    124.330002\n",
      "2287    125.180000\n",
      "2288    124.489998\n",
      "2289    122.543800\n",
      "Name: GLD, Length: 2290, dtype: float64\n"
     ]
    }
   ],
   "source": [
    "print(y)"
   ]
  },
  {
   "cell_type": "code",
   "execution_count": 20,
   "id": "a2bcda0c",
   "metadata": {},
   "outputs": [],
   "source": [
    "x_train,x_test,y_train,y_test=train_test_split(x,y,test_size=0.2,random_state=2)"
   ]
  },
  {
   "cell_type": "code",
   "execution_count": 21,
   "id": "d4033706",
   "metadata": {},
   "outputs": [],
   "source": [
    "model=RandomForestRegressor()"
   ]
  },
  {
   "cell_type": "code",
   "execution_count": 22,
   "id": "4e2dfd4b",
   "metadata": {},
   "outputs": [
    {
     "data": {
      "text/plain": [
       "RandomForestRegressor()"
      ]
     },
     "execution_count": 22,
     "metadata": {},
     "output_type": "execute_result"
    }
   ],
   "source": [
    "model.fit(x_train,y_train)"
   ]
  },
  {
   "cell_type": "code",
   "execution_count": 23,
   "id": "ee0c1d32",
   "metadata": {},
   "outputs": [
    {
     "name": "stdout",
     "output_type": "stream",
     "text": [
      "[168.57369935  81.81339999 116.10890011 127.69870099 120.65200154\n",
      " 154.82259766 150.28329859 126.16190065 117.58049884 125.84770087\n",
      " 116.62370109 171.79710066 141.98699905 168.02819838 115.17739991\n",
      " 117.43610043 140.76040253 170.01090003 159.90290321 157.01660005\n",
      " 155.17260035 124.91870007 175.85319957 156.7809038  125.27440068\n",
      "  93.94189985  77.50140013 120.44659995 119.08799946 167.58640025\n",
      "  88.25320053 125.21600028  91.20020078 117.65600039 121.08669897\n",
      " 136.10470055 115.50000111 115.51400075 146.38189986 106.97020105\n",
      " 104.09390214  87.277898   126.5796009  117.70999965 153.79499927\n",
      " 119.56750041 108.39900005 108.02379842  93.15320062 127.24189724\n",
      "  75.41320018 113.61639915 121.29749996 111.41279924 118.90679903\n",
      " 120.57389949 159.60420065 169.29560163 147.06769665  85.95509897\n",
      "  94.2750003   86.9269989   90.57489982 119.01150059 126.39240086\n",
      " 127.52070017 169.82560009 122.31429934 117.36869901  98.7031005\n",
      " 168.63840212 143.05429831 132.38230205 121.10960226 120.94429966\n",
      " 119.72190045 114.42240176 118.3025005  106.91420107 127.99920096\n",
      " 114.03689971 107.82969997 116.56350106 119.58439905  89.03810025\n",
      "  88.23899872 146.13830261 127.37989984 113.60620055 109.99789839\n",
      " 108.30189915  77.03559898 168.81570175 114.08289886 121.56969963\n",
      " 127.78070174 155.024798    91.90509985 135.68960119 158.42920355\n",
      " 125.23230049 125.72440088 130.69500143 114.85280121 119.95730025\n",
      "  92.06549974 110.1459988  166.54839947 156.69539947 114.18409938\n",
      " 106.57830146  79.34549966 113.25860032 125.80580049 107.26039977\n",
      " 119.43140078 155.73330267 159.46769796 120.82969968 133.92980271\n",
      " 101.43909982 117.26249802 119.28020008 112.92590063 102.78729922\n",
      " 160.02639787  98.89740045 146.70109913 125.75750102 169.40159917\n",
      " 125.46769955 127.3292973  127.50650198 113.69959924 112.9271006\n",
      " 123.88309905 102.129299    89.2255     124.59389974 101.96519935\n",
      " 106.9709992  113.48680011 117.23980078  99.32579983 121.8937002\n",
      " 162.65419938  87.47939853 106.49670015 117.17850081 127.78550124\n",
      " 124.16790064  80.77369916 120.60970096 158.22269696  87.71979945\n",
      " 110.29469953 119.013099   172.10179847 102.98119881 105.72140027\n",
      " 122.44400035 158.70169687  87.3393986   93.24200082 112.83060015\n",
      " 177.12039952 114.44439971 119.30210022  95.04020117 125.71070072\n",
      " 166.65490121 114.66290047 116.77300125  88.27819874 148.95890122\n",
      " 120.36129965  89.58389978 111.84670037 117.81660012 118.74630114\n",
      "  87.99319939  94.56490032 117.24830012 118.44410182 120.46030054\n",
      " 126.56359839 121.91619966 150.5469998  164.68560058 118.63129954\n",
      " 120.41760125 150.61020017 118.44059892 172.20149876 105.66229954\n",
      " 104.98820132 149.22010132 113.7663007  124.88320111 147.46569996\n",
      " 119.58390116 115.38240054 112.77000018 113.47770205 140.51160137\n",
      " 118.08819749 102.95070044 115.81290127 103.48250163  98.97920026\n",
      " 117.4982004   90.8432003   91.69090075 153.59299915 102.71179979\n",
      " 154.81950082 114.43030189 138.66670107  90.26629836 115.4673997\n",
      " 114.68729952 123.40850003 121.8493003  165.45710153  92.82889954\n",
      " 135.79520159 121.31859968 120.81340103 104.35139991 140.73700288\n",
      " 121.86549906 116.65030045 113.4116008  127.01989762 122.62009964\n",
      " 125.79179945 121.21820042  86.88269911 132.25020121 145.60610151\n",
      "  92.75329984 159.76009953 158.12770295 126.37699911 164.8093991\n",
      " 108.83559976 109.86830072 103.66859816  94.30840044 127.92810272\n",
      " 106.9927008  162.99939966 121.99540018 131.97210019 130.41110127\n",
      " 160.43490021  90.14899851 174.51540139 128.00549967 126.64529883\n",
      "  86.59169941 124.62139958 150.85419734  89.61890009 106.79660001\n",
      " 108.91160002  84.80849912 136.04589929 154.74560242 138.80100405\n",
      "  74.42140005 152.77860047 126.1132006  126.75470024 127.49999932\n",
      " 108.58769979 156.34979917 114.51910156 116.83140154 124.93199924\n",
      " 154.17360071 121.17440004 156.40919852  92.90360069 125.50000122\n",
      " 125.81669996  87.9380006   92.01669916 126.24619971 128.40200387\n",
      " 113.13810023 117.5330975  121.00620009 126.96029804 119.91070084\n",
      " 136.40370061  93.88179917 119.88860034 113.18440123  94.3420995\n",
      " 108.83290012  86.89539927 108.63239954  89.74369961  92.35900008\n",
      " 131.272903   162.40480051  89.15240031 120.02300074 133.56270117\n",
      " 123.99320045 128.32540263 102.02119851  88.81079903 131.50400073\n",
      " 119.72940037 108.74630001 168.3970012  115.27370051  86.62379884\n",
      " 118.93590045  91.1757996  161.86350073 116.64600043 121.12769994\n",
      " 160.13949808 119.97209925 112.84639906 108.511099   126.75489944\n",
      "  76.23420008 103.04500002 127.85460277 121.75469966  92.56929983\n",
      " 132.02570067 118.15970126 116.18269968 154.39600257 160.08700058\n",
      " 110.01789961 153.95959755 119.28320072 160.21980022 118.67160009\n",
      " 157.42389887 115.09989961 116.74390024 150.33009904 114.52580087\n",
      " 125.884199   166.25069948 117.73850005 125.25999947 153.20720369\n",
      " 153.43610258 132.2609001  114.72790057 121.16490208 125.46630112\n",
      "  89.61750085 122.90940013 155.19830126 111.76590032 106.48939999\n",
      " 162.16270116 118.43389964 165.65240001 134.05980063 115.0963998\n",
      " 152.97759899 168.54229949 115.01210039 113.98050124 158.48109883\n",
      "  85.01439901 127.13200073 127.92600048 128.98339981 124.48780052\n",
      " 124.0514012   90.46990076 153.12580017  97.00809994 137.74080009\n",
      "  89.22489942 107.75100009 115.16530063 112.91440107 123.8624993\n",
      "  91.49679864 125.33420148 162.2605986  119.74439914 164.94460035\n",
      " 126.53369858 112.47559987 127.53599904  95.0324989   90.94369959\n",
      " 103.49519904 120.78239991  82.80129977 126.34139995 160.80910411\n",
      " 117.22490061 118.29380009 119.97809987 122.54019929 120.05060155\n",
      " 121.47030011 118.14950062 107.01229988 148.14590005 126.03789861\n",
      " 115.79860051  74.11760003 127.82810111 153.76260126 122.5904001\n",
      " 125.55210061  88.7732     104.01479868 124.18060037 120.22320049\n",
      "  73.36280089 151.85450027 121.16090016 104.70470018  86.34459817\n",
      " 115.48919904 172.22999768 119.91520028 160.37289718 113.21189968\n",
      " 121.10950019 118.84390131  96.00449983 119.30940054 126.10580063\n",
      " 118.40769953  95.7596005  154.08310205 121.77400006 147.59859999\n",
      " 159.2097023  113.65700016 122.59919918 147.9726978  127.14240012\n",
      " 165.84430011 135.79670109 120.10099975 167.5776989  108.38469953\n",
      " 121.62019892 138.31820136 106.04089917]\n"
     ]
    }
   ],
   "source": [
    "test_data_prediction=model.predict(x_test)\n",
    "print(test_data_prediction)"
   ]
  },
  {
   "cell_type": "code",
   "execution_count": 24,
   "id": "be8f1ae9",
   "metadata": {},
   "outputs": [
    {
     "name": "stdout",
     "output_type": "stream",
     "text": [
      "R score Error : 0.9891298734221767\n"
     ]
    }
   ],
   "source": [
    "error_score=metrics.r2_score(y_test,test_data_prediction)\n",
    "print(\"R score Error :\",error_score)"
   ]
  },
  {
   "cell_type": "code",
   "execution_count": 25,
   "id": "8b8724e4",
   "metadata": {},
   "outputs": [],
   "source": [
    "y_test=list(y_test)"
   ]
  },
  {
   "cell_type": "code",
   "execution_count": 26,
   "id": "6ab1e35e",
   "metadata": {},
   "outputs": [
    {
     "data": {
      "image/png": "[encoded data removed]",
      "text/plain": [
       "<Figure size 432x288 with 1 Axes>"
      ]
     },
     "metadata": {
      "needs_background": "light"
     },
     "output_type": "display_data"
    }
   ],
   "source": [
    "plt.plot(y_test,color='blue',label='Actual Value')\n",
    "plt.plot(test_data_prediction,color='green',label=\"Predicted Value\")\n",
    "plt.title('Actual Vs Predicted Value')\n",
    "plt.xlabel('Number Of Values')\n",
    "plt.ylabel('GLD Price')\n",
    "plt.legend()\n",
    "plt.show()"
   ]
  },
  {
   "cell_type": "code",
   "execution_count": null,
   "id": "ffa29b05",
   "metadata": {},
   "outputs": [],
   "source": []
  }
 ],
 "metadata": {
  "kernelspec": {
   "display_name": "Python 3 (ipykernel)",
   "language": "python",
   "name": "python3"
  },
  "language_info": {
   "codemirror_mode": {
    "name": "ipython",
    "version": 3
   },
   "file_extension": ".py",
   "mimetype": "text/x-python",
   "name": "python",
   "nbconvert_exporter": "python",
   "pygments_lexer": "ipython3",
   "version": "3.9.7"
  }
 },
 "nbformat": 4,
 "nbformat_minor": 5
}
